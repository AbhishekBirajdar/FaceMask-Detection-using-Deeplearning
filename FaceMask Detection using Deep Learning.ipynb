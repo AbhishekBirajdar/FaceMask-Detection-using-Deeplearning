{
 "cells": [
  {
   "cell_type": "code",
   "execution_count": 1,
   "metadata": {},
   "outputs": [
    {
     "data": {
      "application/javascript": [
       "if (window.IPython && IPython.notebook.kernel) IPython.notebook.kernel.execute('jovian.utils.jupyter.get_notebook_name_saved = lambda: \"' + IPython.notebook.notebook_name + '\"')"
      ],
      "text/plain": [
       "<IPython.core.display.Javascript object>"
      ]
     },
     "metadata": {},
     "output_type": "display_data"
    }
   ],
   "source": [
    "# Import libraries\n",
    "from imutils.video import VideoStream\n",
    "import os\n",
    "import numpy as np\n",
    "import imutils\n",
    "import cv2\n",
    "import tensorflow.keras\n",
    "from PIL import Image, ImageOps\n",
    "import numpy as np\n",
    "import jovian"
   ]
  },
  {
   "cell_type": "markdown",
   "metadata": {},
   "source": [
    "### Note:\n",
    "* You can download Face Mask dataset from here https://github.com/prajnasb/face_detector/tree/master/dataset"
   ]
  },
  {
   "cell_type": "code",
   "execution_count": 4,
   "metadata": {},
   "outputs": [],
   "source": [
    "def predicition():\n",
    "    # Disable scientific notation for clarity\n",
    "    np.set_printoptions(suppress=True)\n",
    "\n",
    "    # Load the model\n",
    "    model = tensorflow.keras.models.load_model('./TeachMa_FaceMask.h5',compile=False)\n",
    "\n",
    "    # Create the array of the right shape to feed into the keras model\n",
    "    # The 'length' or number of images you can put into the array is\n",
    "    # determined by the first position in the shape tuple, in this case 1.\n",
    "    data = np.ndarray(shape=(1, 224, 224, 3), dtype=np.float32)\n",
    "\n",
    "    # Replace this with the path to your image\n",
    "    image = Image.open('./face.jpg')\n",
    "\n",
    "    #resize the image to a 224x224 with the same strategy as in TM2:\n",
    "    #resizing the image to be at least 224x224 and then cropping from the center\n",
    "    size = (224, 224)\n",
    "    image = ImageOps.fit(image, size, Image.ANTIALIAS)\n",
    "\n",
    "    #turn the image into a numpy array\n",
    "    image_array = np.asarray(image)\n",
    "\n",
    "    # display the resized image\n",
    "#     image.show()\n",
    "\n",
    "    # Normalize the image\n",
    "    normalized_image_array = (image_array.astype(np.float32) / 127.0) - 1\n",
    "\n",
    "    # Load the image into the array\n",
    "    data[0] = normalized_image_array\n",
    "\n",
    "    # run the inference\n",
    "    prediction = model.predict(data)\n",
    "    for i,j in prediction:\n",
    "        if(i>j):\n",
    "            return('WithoutMask')\n",
    "        else:\n",
    "            return('WithMask')"
   ]
  },
  {
   "cell_type": "code",
   "execution_count": 6,
   "metadata": {},
   "outputs": [],
   "source": [
    "# Define paths\n",
    "prototxt_path = 'C:/Users/vsneh/Udemy-notebooks/covid-mask-socialDistance/Face-Detection-using-OpenCV-master/model_data/deploy.prototxt'\n",
    "caffemodel_path = 'C:/Users/vsneh/Udemy-notebooks/covid-mask-socialDistance/Face-Detection-using-OpenCV-master/model_data/weights.caffemodel'\n",
    "\n",
    "# Read the model\n",
    "model = cv2.dnn.readNetFromCaffe(prototxt_path, caffemodel_path)\n",
    "\n",
    "# Start video capture\n",
    "vs = cv2.VideoCapture(0)\n",
    "\n",
    "# Display each video frame\n",
    "while True:\n",
    "    ret, frame = vs.read()\n",
    "    frame = imutils.resize(frame, width = 700, height = 700)\n",
    "    \n",
    "    (h, w) = frame.shape[:2]\n",
    "    blob = cv2.dnn.blobFromImage(cv2.resize(frame, (300, 300)), 1.0, (300, 300), (104.0, 177.0, 123.0))\n",
    "    \n",
    "    model.setInput(blob)\n",
    "    detections = model.forward()\n",
    "    \n",
    "    for i in range(0, detections.shape[2]):\n",
    "        box = detections[0, 0, i, 3:7] * np.array([w, h, w, h])\n",
    "        (startX, startY, endX, endY) = box.astype(\"int\")\n",
    "        \n",
    "        confidence = detections[0, 0, i, 2]\n",
    "        \n",
    "        # If confidence > 0.5, show box around face\n",
    "        if (confidence > 0.5):\n",
    "            text = \"{:.2f}%\".format(confidence * 100)\n",
    "            y = startY - 10 if startY - 10 > 10 else startY + 10\n",
    "            \n",
    "            roi = frame[startY: endY, startX: endX]\n",
    "            roi_img = Image.fromarray(roi, 'RGB')\n",
    "            roi_img.save('face.jpg')\n",
    "            result = predicition()\n",
    "#             print(result)\n",
    "            if(result=='WithoutMask'):\n",
    "                cv2.rectangle(frame, (startX, startY), (endX, endY), (0, 0, 255), 2)\n",
    "                cv2.putText(frame, result, (startX, y), cv2.FONT_HERSHEY_SIMPLEX, 0.45, (255, 255, 255), 2)\n",
    "            else:\n",
    "                cv2.rectangle(frame, (startX, startY), (endX, endY), (0, 255, 0), 2)\n",
    "                cv2.putText(frame, result, (startX, y), cv2.FONT_HERSHEY_SIMPLEX, 0.45, (255, 255, 255), 2)\n",
    "        cv2.imshow(\"Frame\", frame)\n",
    "    if cv2.waitKey(1) & 0xFF == ord('q'):\n",
    "        break\n",
    "\n",
    "vs.release()\n",
    "cv2.destroyAllWindows()"
   ]
  },
  {
   "cell_type": "code",
   "execution_count": 2,
   "metadata": {},
   "outputs": [
    {
     "data": {
      "application/javascript": [
       "window.require && require([\"base/js/namespace\"],function(Jupyter){Jupyter.notebook.save_checkpoint()})"
      ],
      "text/plain": [
       "<IPython.core.display.Javascript object>"
      ]
     },
     "metadata": {},
     "output_type": "display_data"
    },
    {
     "name": "stdout",
     "output_type": "stream",
     "text": [
      "[jovian] Attempting to save notebook..\n",
      "[jovian] Uploading notebook..\n",
      "[jovian] Capturing environment..\n",
      "[jovian] Uploading additional files...\n"
     ]
    },
    {
     "name": "stderr",
     "output_type": "stream",
     "text": [
      "[jovian] Error: File upload failed: (HTTP 400) Invalid filename or extension (./TeachMa_FaceMask.h5)\n",
      "[jovian] Error: File upload failed: (HTTP 400) Invalid filename or extension (./target.npy)\n",
      "[jovian] Error: File upload failed: (HTTP 400) Invalid filename or extension (./Face-Detection-using-OpenCV-master/model_data/deploy.prototxt)\n",
      "[jovian] Error: File upload failed: (HTTP 400) Invalid filename or extension (./Face-Detection-using-OpenCV-master/model_data/weights.caffemodel)\n"
     ]
    },
    {
     "name": "stdout",
     "output_type": "stream",
     "text": [
      "[jovian] Committed successfully! https://jovian.ml/v-snehith999/facemask-detection-using-deep-learning\r\n"
     ]
    },
    {
     "data": {
      "text/plain": [
       "'https://jovian.ml/v-snehith999/facemask-detection-using-deep-learning'"
      ]
     },
     "execution_count": 2,
     "metadata": {},
     "output_type": "execute_result"
    }
   ],
   "source": [
    "jovian.commit(environment='none',files=['./TeachMa_FaceMask.h5','./target.npy','./labels.txt','./Face-Detection-using-OpenCV-master/model_data/deploy.prototxt','./Face-Detection-using-OpenCV-master/model_data/weights.caffemodel'])"
   ]
  },
  {
   "cell_type": "code",
   "execution_count": 10,
   "metadata": {},
   "outputs": [],
   "source": [
    "import jovian"
   ]
  },
  {
   "cell_type": "code",
   "execution_count": null,
   "metadata": {},
   "outputs": [],
   "source": []
  },
  {
   "cell_type": "code",
   "execution_count": null,
   "metadata": {},
   "outputs": [],
   "source": []
  }
 ],
 "metadata": {
  "kernelspec": {
   "display_name": "Python 3",
   "language": "python",
   "name": "python3"
  },
  "language_info": {
   "codemirror_mode": {
    "name": "ipython",
    "version": 3
   },
   "file_extension": ".py",
   "mimetype": "text/x-python",
   "name": "python",
   "nbconvert_exporter": "python",
   "pygments_lexer": "ipython3",
   "version": "3.7.5"
  }
 },
 "nbformat": 4,
 "nbformat_minor": 2
}
